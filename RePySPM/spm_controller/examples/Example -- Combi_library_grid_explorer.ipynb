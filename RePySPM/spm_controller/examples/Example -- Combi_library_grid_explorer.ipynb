{
 "cells": [
  {
   "cell_type": "markdown",
   "id": "04cff423-fa5c-407e-8305-05ef6e1c46f6",
   "metadata": {},
   "source": [
    "This notebooks is modified based on the AESPM tutorial linked here: https://github.com/RichardLiuCoding/aespm/tree/main/aespm/notebooks\n",
    "\n",
    "In this notebook, I have changed all the AESPM functions to their equivalent ones in the RePySPM library.\n",
    "\n",
    "Here many approaching and motor status checking functions are missing in the library and I have put some placeholders in the last cell."
   ]
  },
  {
   "cell_type": "markdown",
   "id": "7ae5673e",
   "metadata": {},
   "source": [
    "# Import Packages"
   ]
  },
  {
   "cell_type": "code",
   "execution_count": 1,
   "id": "1df072ee",
   "metadata": {
    "ExecuteTime": {
     "end_time": "2024-04-11T02:28:35.939561Z",
     "start_time": "2024-04-11T02:28:35.181481Z"
    }
   },
   "outputs": [],
   "source": [
    "from igor2 import binarywave as bw\n",
    "\n",
    "import time\n",
    "import os\n",
    "import numpy as np\n",
    "import matplotlib.pyplot as plt\n",
    "from IPython.display import display, clear_output\n",
    "\n",
    "import shutil\n",
    "\n",
    "# import aespm as ae\n",
    "from afm_controller import AFMController"
   ]
  },
  {
   "cell_type": "code",
   "execution_count": 2,
   "id": "730750e1",
   "metadata": {
    "ExecuteTime": {
     "end_time": "2024-04-11T02:28:36.446127Z",
     "start_time": "2024-04-11T02:28:36.442288Z"
    }
   },
   "outputs": [],
   "source": [
    "# Step 1: Initialize the AFM Controller\n",
    "afm = AFMController()\n",
    "\n",
    "# Step 2: Connect to the AFM system\n",
    "afm.connect()"
   ]
  },
  {
   "cell_type": "markdown",
   "id": "03ee2309",
   "metadata": {},
   "source": [
    "# AC mode exploration"
   ]
  },
  {
   "cell_type": "code",
   "execution_count": null,
   "id": "a6bc016a-63cb-4c22-aaa3-262d92f96682",
   "metadata": {},
   "outputs": [],
   "source": [
    "# Set the scan parameters for the exploration\n",
    "# Please skip this step if you prefer setting the initial parameters manually \n",
    "print(\"\\n--- Setting Scan Parameters ---\")\n",
    "afm.scan_parameters.set_scan_parameters(\n",
    "    width=10e-6,  # 10 µm\n",
    "    height=10e-6, # 10 µm\n",
    "    rotation=0,\n",
    "    speed=1e-6    # 1 µm/s\n",
    ")\n",
    "print(\"Scan parameters set.\")"
   ]
  },
  {
   "cell_type": "code",
   "execution_count": null,
   "id": "ae9a43ab-ac15-4618-ae47-9c617e7b03d4",
   "metadata": {},
   "outputs": [],
   "source": [
    "# Define the grid-size\n",
    "# Assume this is a 1D exploration along the x-axis with a total distance L\n",
    "displacement = [L, 0]\n",
    "num_points = 20"
   ]
  },
  {
   "cell_type": "code",
   "execution_count": null,
   "id": "54be0e89-ec5b-4343-a495-3329de148ef0",
   "metadata": {},
   "outputs": [],
   "source": [
    "# Initial sample height\n",
    "# This is the sample surface height across the exploration distance, D\n",
    "# If the values here are incorrect, the probe will crash into the sample surface or it takes forever to approach!\n",
    "sample_height = [1.8e-3] * num_points\n",
    "\n",
    "offset = 150e-6 # the pre-engage height is 150 um from the sample surface\n",
    "\n",
    "for i in range(num_points):\n",
    "    print(\"Working on Location: {}/{}\".format(i+1, num_points), end='\\r')\n",
    "\n",
    "    # Set the new sample height\n",
    "    afm.motors.set_sample_height(sample_height[i])\n",
    "    # Move the probe to the pre-engage height\n",
    "    afm.z_control.moveZ_stage_distance(sample_height[i] + offset)\n",
    "    # Start the approaching process\n",
    "    afm.z_control.start_approach()\n",
    "    \n",
    "    # Wait until the approaching to finish\n",
    "    max_wait = 5 * 60 # let's wait no longer than 5 min\n",
    "    N = 0\n",
    "    \n",
    "    while afm.z_control.is_approaching() and N <= int(max_wait / 10):\n",
    "        time.sleep(10)\n",
    "        N += 1\n",
    "\n",
    "    # Start the topography scan and wait until it's done\n",
    "    afm.scan_control.scan_up()\n",
    "\n",
    "    max_wait = 5 * 60 # let's wait no longer than 5 min\n",
    "    N = 0\n",
    "    \n",
    "    while afm.scan_control.is_scanning() and N <= int(max_wait / 10):\n",
    "        time.sleep(10)\n",
    "        N += 1\n",
    "\n",
    "    # Next we withdraw the probe and move to the next location to measure\n",
    "    afm.z_control.retract()\n",
    "    afm.motors.moveXstage(L/num_points)\n",
    "    # Wait until the moving is done"
   ]
  },
  {
   "cell_type": "code",
   "execution_count": null,
   "id": "b0b076a8",
   "metadata": {},
   "outputs": [],
   "source": []
  }
 ],
 "metadata": {
  "kernelspec": {
   "display_name": "Python 3 (ipykernel)",
   "language": "python",
   "name": "python3"
  },
  "language_info": {
   "codemirror_mode": {
    "name": "ipython",
    "version": 3
   },
   "file_extension": ".py",
   "mimetype": "text/x-python",
   "name": "python",
   "nbconvert_exporter": "python",
   "pygments_lexer": "ipython3",
   "version": "3.9.1"
  },
  "toc": {
   "base_numbering": 1,
   "nav_menu": {},
   "number_sections": true,
   "sideBar": true,
   "skip_h1_title": false,
   "title_cell": "Table of Contents",
   "title_sidebar": "Contents",
   "toc_cell": false,
   "toc_position": {},
   "toc_section_display": true,
   "toc_window_display": false
  }
 },
 "nbformat": 4,
 "nbformat_minor": 5
}
